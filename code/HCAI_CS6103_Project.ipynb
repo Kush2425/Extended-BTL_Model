{
 "cells": [
  {
   "cell_type": "markdown",
   "metadata": {
    "id": "C6TlhKmEtDzl"
   },
   "source": [
    "Main Code"
   ]
  },
  {
   "cell_type": "markdown",
   "metadata": {
    "id": "YExBB6X1tPuL"
   },
   "source": [
    "Code for generating comparisons"
   ]
  },
  {
   "cell_type": "code",
   "execution_count": 15,
   "metadata": {
    "id": "vPpfU4ArtGVA"
   },
   "outputs": [],
   "source": [
    "import numpy as np\n",
    "import matplotlib.pyplot as plt\n",
    "\n",
    "# Set seed for reproducibility\n",
    "np.random.seed(42)\n",
    "\n",
    "def generate_comparisons(true_r, true_beta, M, N, K):\n",
    "    \"\"\"\n",
    "    Generates synthetic pairwise comparisons with constraints:\n",
    "    - true_r ∈ [0, 1]\n",
    "    - true_beta ∈ [0, 1]\n",
    "    \"\"\"\n",
    "    comparisons = []\n",
    "    for _ in range(M):\n",
    "        k = np.random.randint(K)  # Worker index\n",
    "        a, b = np.random.choice(N, 2, replace=False)\n",
    "\n",
    "        # Compute probability using constrained rewards and beta\n",
    "        reward_diff = true_r[a] - true_r[b]\n",
    "        prob = 1 / (1 + np.exp(-true_beta[k] * reward_diff))\n",
    "\n",
    "        if np.random.rand() < prob:\n",
    "            comparisons.append((a, b, k))\n",
    "        else:\n",
    "            comparisons.append((b, a, k))\n",
    "    return comparisons"
   ]
  },
  {
   "cell_type": "code",
   "execution_count": 16,
   "metadata": {
    "id": "064J3o7_yXXv"
   },
   "outputs": [],
   "source": [
    "def metrics(true_r, true_beta, estimated_r, estimated_beta):\n",
    "  rmse_r = np.sqrt(np.mean((true_r - estimated_r)**2))\n",
    "  rmse_beta = np.sqrt(np.mean((true_beta - estimated_beta)**2))\n",
    "  # print(f\"RMSE for Item Rewards: {rmse_r}\")\n",
    "  return rmse_r, rmse_beta"
   ]
  },
  {
   "cell_type": "markdown",
   "metadata": {
    "id": "9RHBTPMw3PMa"
   },
   "source": [
    "EM Code"
   ]
  },
  {
   "cell_type": "markdown",
   "metadata": {
    "id": "nkVl3a-D8T8N"
   },
   "source": [
    "Experiments by varying:\n",
    "1. Number of items.\n",
    "2. Number of comparisons.\n",
    "3. Number of workers.\n",
    "\n",
    "Metrics:\n",
    "1. Accuracy\n",
    "2. Comparison with Majority vote\n",
    "3. RMSE between competence and reward vector"
   ]
  },
  {
   "cell_type": "code",
   "execution_count": 3,
   "metadata": {
    "id": "mcjueWLCVqpP"
   },
   "outputs": [],
   "source": [
    "def get_original_label(comparisons):\n",
    "  original_labels = []\n",
    "  for w_i, l_i, _ in comparisons:\n",
    "    w_i = int(w_i)\n",
    "    l_i = int(l_i)\n",
    "    if true_r[w_i] > true_r[l_i]:\n",
    "        original_labels.append(1)\n",
    "    else:\n",
    "        original_labels.append(0)\n",
    "  return original_labels"
   ]
  },
  {
   "cell_type": "code",
   "execution_count": 4,
   "metadata": {
    "id": "4LMgnULOBLpp"
   },
   "outputs": [],
   "source": [
    "def estimate_labels(estimated_r1):\n",
    "  estimated_labels = []\n",
    "  for w_i, l_i, _ in comparisons:\n",
    "    w_i = int(w_i)\n",
    "    l_i = int(l_i)\n",
    "    if true_r[w_i] > true_r[l_i]:\n",
    "      if estimated_r1[w_i] > estimated_r1[l_i]:\n",
    "        estimated_labels.append(1)\n",
    "      else:\n",
    "        estimated_labels.append(0)\n",
    "    else:\n",
    "      if true_r[w_i] < true_r[l_i]:\n",
    "        if estimated_r1[w_i] < estimated_r1[l_i]:\n",
    "          estimated_labels.append(1)\n",
    "        else:\n",
    "          estimated_labels.append(0)\n",
    "  return estimated_labels"
   ]
  },
  {
   "cell_type": "code",
   "execution_count": 14,
   "metadata": {},
   "outputs": [],
   "source": [
    "import torch\n",
    "from tqdm import tqdm\n",
    "\n",
    "class PolyaGammaEMGPU:\n",
    "    def __init__(self, num_items, num_workers, max_iter=500, epsilon=1e-4, device='cuda'):\n",
    "        self.num_items = num_items\n",
    "        self.num_workers = num_workers\n",
    "        self.max_iter = max_iter\n",
    "        self.epsilon = epsilon\n",
    "        self.device = device\n",
    "\n",
    "        # Initialize parameters with identifiability constraints\n",
    "        self.r = torch.randn(num_items, device=device)\n",
    "        self.r -= self.r.mean()\n",
    "        self.beta = torch.empty(num_workers, device=device).uniform_(0.1, 0.9)\n",
    "        \n",
    "        # Precompute constants\n",
    "        self.ones = torch.ones(1, device=device)\n",
    "        self.half = torch.tensor(0.5, device=device)\n",
    "        self.eps = torch.tensor(1e-10, device=device)\n",
    "\n",
    "    def fit(self, comparisons):\n",
    "        # Convert comparisons to tensor and move to device\n",
    "        comp_tensor = torch.tensor(comparisons, dtype=torch.long, device=self.device)\n",
    "        w = comp_tensor[:, 0]\n",
    "        l = comp_tensor[:, 1]\n",
    "        k = comp_tensor[:, 2]\n",
    "        \n",
    "        prev_r = self.r.clone()\n",
    "        prev_beta = self.beta.clone()\n",
    "\n",
    "        for _ in tqdm(range(self.max_iter)):\n",
    "            # E-step: Vectorized PG expectations\n",
    "            x = self.beta[k] * (self.r[w] - self.r[l])\n",
    "            ew = torch.where(\n",
    "                x.abs() < 1e-8,\n",
    "                0.25 - (x**2)/48.0,\n",
    "                torch.tanh(x/2) / (2*x)\n",
    "            )\n",
    "\n",
    "            # M-step: Vectorized updates\n",
    "            self._update_rewards(w, l, k, ew)\n",
    "            self._update_competencies(w, l, k, ew)\n",
    "\n",
    "            # Enforce constraints\n",
    "            self.r -= self.r.mean()\n",
    "            self.beta = torch.clamp(self.beta, 1e-10, 1-1e-10)\n",
    "\n",
    "            # Check convergence\n",
    "            if self._check_convergence(prev_r, prev_beta):\n",
    "                break\n",
    "            prev_r.copy_(self.r)\n",
    "            prev_beta.copy_(self.beta)\n",
    "\n",
    "        return self.r.cpu().numpy(), self.beta.cpu().numpy()\n",
    "\n",
    "    def _update_rewards(self, w, l, k, ew):\n",
    "        beta_k = self.beta[k]\n",
    "        beta_sq = beta_k ** 2\n",
    "        \n",
    "        # Vectorized numerator/denominator updates\n",
    "        numerator = torch.zeros_like(self.r)\n",
    "        denominator = torch.zeros_like(self.r)\n",
    "        \n",
    "        # Winning items\n",
    "        numerator.scatter_add_(0, w, 0.5 * ew)\n",
    "        denominator.scatter_add_(0, w, ew * beta_sq)\n",
    "        \n",
    "        # Losing items\n",
    "        numerator.scatter_add_(0, l, -0.5 * ew)\n",
    "        denominator.scatter_add_(0, l, ew * beta_sq)\n",
    "\n",
    "        # Update rewards with stability\n",
    "        self.r = numerator / torch.clamp(denominator, min=1e-10)\n",
    "\n",
    "    def _update_competencies(self, w, l, k, ew):\n",
    "        delta = self.r[w] - self.r[l]\n",
    "        beta_k_old = torch.clamp(self.beta[k], min=1e-10)\n",
    "        factor = 0.5 / beta_k_old\n",
    "        \n",
    "        # Vectorized updates\n",
    "        numerator = torch.zeros_like(self.beta)\n",
    "        denominator = torch.zeros_like(self.beta)\n",
    "        \n",
    "        numerator.scatter_add_(0, k, ew * factor * delta)\n",
    "        denominator.scatter_add_(0, k, ew * delta ** 2)\n",
    "\n",
    "        # Update only workers with comparisons\n",
    "        mask = denominator > 1e-10\n",
    "        self.beta[mask] = numerator[mask] / denominator[mask]\n",
    "\n",
    "    def _check_convergence(self, prev_r, prev_beta):\n",
    "        r_diff = torch.norm(self.r - prev_r)\n",
    "        beta_diff = torch.norm(self.beta - prev_beta)\n",
    "        return r_diff < self.epsilon and beta_diff < self.epsilon"
   ]
  },
  {
   "cell_type": "code",
   "execution_count": 6,
   "metadata": {},
   "outputs": [
    {
     "ename": "NameError",
     "evalue": "name 'device' is not defined",
     "output_type": "error",
     "traceback": [
      "\u001b[0;31m---------------------------------------------------------------------------\u001b[0m",
      "\u001b[0;31mNameError\u001b[0m                                 Traceback (most recent call last)",
      "Cell \u001b[0;32mIn[6], line 27\u001b[0m\n\u001b[1;32m     25\u001b[0m     comparisons \u001b[38;5;241m=\u001b[39m generate_comparisons(true_r, true_beta, m, N, K)\n\u001b[1;32m     26\u001b[0m     \u001b[38;5;66;03m# estimated_r3, estimated_beta3, history3 = model.fit(comparisons)\u001b[39;00m\n\u001b[0;32m---> 27\u001b[0m     model \u001b[38;5;241m=\u001b[39m PolyaGammaEMGPU(N, K, device\u001b[38;5;241m=\u001b[39m\u001b[43mdevice\u001b[49m)\n\u001b[1;32m     28\u001b[0m     r_est, b_est \u001b[38;5;241m=\u001b[39m model\u001b[38;5;241m.\u001b[39mfit(comparisons)\n\u001b[1;32m     30\u001b[0m \u001b[38;5;66;03m#     rmse_r3, rmse_beta3 = metrics(true_r, true_beta, r_est, b_est)\u001b[39;00m\n\u001b[1;32m     31\u001b[0m     \u001b[38;5;66;03m#   print(rmse_r3)\u001b[39;00m\n\u001b[1;32m     32\u001b[0m     \u001b[38;5;66;03m#   print(rmse_beta3)\u001b[39;00m\n",
      "\u001b[0;31mNameError\u001b[0m: name 'device' is not defined"
     ]
    }
   ],
   "source": [
    "import numpy as np\n",
    "import matplotlib.pyplot as plt\n",
    "from sklearn.metrics import accuracy_score\n",
    "\n",
    "# Set seed for reproducibility\n",
    "np.random.seed(42)\n",
    "\n",
    "N = 50                  # Number of items\n",
    "K = 6                   # Number of worker\n",
    "# model = GradientEM(num_items=N, num_workers=K, learning_rate=0.01, max_iter=500)\n",
    "\n",
    "# True parameters (constrained to [0, 1])\n",
    "true_r = np.random.rand(N)     # Item rewards (0 = worst, 1 = best)\n",
    "true_r = true_r - true_r.mean()\n",
    "true_beta = np.random.rand(K)          # Worker competencies (0 = random, 1 = perfect)\n",
    "M_array = [100, 1000, 5000, 10000, 20000, 40000, 60000]\n",
    "# M_array = [60000]\n",
    "accuracy_scores = []\n",
    "original_accuracy_scores = []\n",
    "rmse_r_array = []\n",
    "rmse_beta_array = []\n",
    "\n",
    "\n",
    "for m in M_array:\n",
    "    comparisons = generate_comparisons(true_r, true_beta, m, N, K)\n",
    "    # estimated_r3, estimated_beta3, history3 = model.fit(comparisons)\n",
    "    model = PolyaGammaEMGPU(N, K, device=device)\n",
    "    r_est, b_est = model.fit(comparisons)\n",
    "\n",
    "#     rmse_r3, rmse_beta3 = metrics(true_r, true_beta, r_est, b_est)\n",
    "    #   print(rmse_r3)\n",
    "    #   print(rmse_beta3)\n",
    "    true_labels = [1]*len(comparisons)\n",
    "    estimated_labels = estimate_labels(r_est)\n",
    "\n",
    "    # Calculate accuracy\n",
    "    accuracy = accuracy_score(true_labels, estimated_labels)\n",
    "    accuracy_scores.append(accuracy)\n",
    "    #   rmse_r_array.append(rmse_r3)\n",
    "    #   rmse_beta_array.append(rmse_beta3)\n",
    "    print(accuracy)\n",
    "\n",
    "\n",
    "    original_labels = get_original_label(comparisons)\n",
    "    original_accuracy = accuracy_score(true_labels, original_labels)\n",
    "    print(original_accuracy)\n",
    "    original_accuracy_scores.append(original_accuracy)\n",
    "\n",
    "print(accuracy_scores)"
   ]
  },
  {
   "cell_type": "code",
   "execution_count": 7,
   "metadata": {},
   "outputs": [
    {
     "name": "stdout",
     "output_type": "stream",
     "text": [
      "Fri May  2 21:54:56 2025       \n",
      "+---------------------------------------------------------------------------------------+\n",
      "| NVIDIA-SMI 535.54.03              Driver Version: 535.54.03    CUDA Version: 12.5     |\n",
      "|-----------------------------------------+----------------------+----------------------+\n",
      "| GPU  Name                 Persistence-M | Bus-Id        Disp.A | Volatile Uncorr. ECC |\n",
      "| Fan  Temp   Perf          Pwr:Usage/Cap |         Memory-Usage | GPU-Util  Compute M. |\n",
      "|                                         |                      |               MIG M. |\n",
      "|=========================================+======================+======================|\n",
      "|   0  NVIDIA A100 80GB PCIe          Off | 00000000:17:00.0 Off |                    0 |\n",
      "| N/A   71C    P0             237W / 300W |  44371MiB / 81920MiB |     70%      Default |\n",
      "|                                         |                      |             Disabled |\n",
      "+-----------------------------------------+----------------------+----------------------+\n",
      "|   1  NVIDIA A100 80GB PCIe          Off | 00000000:31:00.0 Off |                    0 |\n",
      "| N/A   38C    P0             153W / 300W |  53126MiB / 81920MiB |     66%      Default |\n",
      "|                                         |                      |             Disabled |\n",
      "+-----------------------------------------+----------------------+----------------------+\n",
      "|   2  NVIDIA A100 80GB PCIe          Off | 00000000:4B:00.0 Off |                    0 |\n",
      "| N/A   58C    P0              76W / 300W |  55073MiB / 81920MiB |      0%      Default |\n",
      "|                                         |                      |             Disabled |\n",
      "+-----------------------------------------+----------------------+----------------------+\n",
      "|   3  NVIDIA A100 80GB PCIe          Off | 00000000:CA:00.0 Off |                    0 |\n",
      "| N/A   66C    P0             292W / 300W |  62328MiB / 81920MiB |    100%      Default |\n",
      "|                                         |                      |             Disabled |\n",
      "+-----------------------------------------+----------------------+----------------------+\n",
      "                                                                                         \n",
      "+---------------------------------------------------------------------------------------+\n",
      "| Processes:                                                                            |\n",
      "|  GPU   GI   CI        PID   Type   Process name                            GPU Memory |\n",
      "|        ID   ID                                                             Usage      |\n",
      "|=======================================================================================|\n",
      "+---------------------------------------------------------------------------------------+\n"
     ]
    }
   ],
   "source": [
    "!nvidia-smi"
   ]
  },
  {
   "cell_type": "code",
   "execution_count": 8,
   "metadata": {},
   "outputs": [],
   "source": [
    "import os\n",
    "os.environ[\"CUDA_VISIBLE_DEVICES\"] = \"1\""
   ]
  },
  {
   "cell_type": "code",
   "execution_count": 9,
   "metadata": {},
   "outputs": [
    {
     "name": "stdout",
     "output_type": "stream",
     "text": [
      "cuda\n"
     ]
    }
   ],
   "source": [
    "device = torch.device('cuda' if torch.cuda.is_available() else 'cpu')\n",
    "print(device)"
   ]
  },
  {
   "cell_type": "code",
   "execution_count": 10,
   "metadata": {},
   "outputs": [],
   "source": [
    "def get_original_label(comparisons):\n",
    "  original_labels = []\n",
    "  for w_i, l_i, _ in comparisons:\n",
    "    w_i = int(w_i)\n",
    "    l_i = int(l_i)\n",
    "    if true_r[w_i] > true_r[l_i]:\n",
    "        original_labels.append(1)\n",
    "    else:\n",
    "        original_labels.append(0)\n",
    "  return original_labels"
   ]
  },
  {
   "cell_type": "code",
   "execution_count": 11,
   "metadata": {},
   "outputs": [],
   "source": [
    "def estimate_labels(estimated_r1):\n",
    "  estimated_labels = []\n",
    "  for w_i, l_i, _ in comparisons:\n",
    "    w_i = int(w_i)\n",
    "    l_i = int(l_i)\n",
    "    if true_r[w_i] > true_r[l_i]:\n",
    "      if estimated_r1[w_i] > estimated_r1[l_i]:\n",
    "        estimated_labels.append(1)\n",
    "      else:\n",
    "        estimated_labels.append(0)\n",
    "    else:\n",
    "      if true_r[w_i] < true_r[l_i]:\n",
    "        if estimated_r1[w_i] < estimated_r1[l_i]:\n",
    "          estimated_labels.append(1)\n",
    "        else:\n",
    "          estimated_labels.append(0)\n",
    "  return estimated_labels"
   ]
  },
  {
   "cell_type": "code",
   "execution_count": 24,
   "metadata": {},
   "outputs": [
    {
     "name": "stderr",
     "output_type": "stream",
     "text": [
      "  2%|██▉                                                                                                                                              | 10/500 [00:00<00:00, 571.59it/s]\n"
     ]
    },
    {
     "name": "stdout",
     "output_type": "stream",
     "text": [
      "N=10, K=2, m=100: EM=0.5100, Original=0.5400\n"
     ]
    },
    {
     "name": "stderr",
     "output_type": "stream",
     "text": [
      "100%|███████████████████████████████████████████████████████████████████████████████████████████████████████████████████████████████████████████████| 500/500 [00:00<00:00, 1122.47it/s]\n"
     ]
    },
    {
     "name": "stdout",
     "output_type": "stream",
     "text": [
      "N=10, K=2, m=1000: EM=0.7140, Original=0.5510\n"
     ]
    },
    {
     "name": "stderr",
     "output_type": "stream",
     "text": [
      "100%|███████████████████████████████████████████████████████████████████████████████████████████████████████████████████████████████████████████████| 500/500 [00:00<00:00, 1155.30it/s]\n"
     ]
    },
    {
     "name": "stdout",
     "output_type": "stream",
     "text": [
      "N=10, K=2, m=5000: EM=0.9372, Original=0.5478\n"
     ]
    },
    {
     "name": "stderr",
     "output_type": "stream",
     "text": [
      "100%|███████████████████████████████████████████████████████████████████████████████████████████████████████████████████████████████████████████████| 500/500 [00:00<00:00, 1153.00it/s]\n"
     ]
    },
    {
     "name": "stdout",
     "output_type": "stream",
     "text": [
      "N=10, K=2, m=10000: EM=0.9171, Original=0.5489\n"
     ]
    },
    {
     "name": "stderr",
     "output_type": "stream",
     "text": [
      "100%|███████████████████████████████████████████████████████████████████████████████████████████████████████████████████████████████████████████████| 500/500 [00:00<00:00, 1140.40it/s]\n"
     ]
    },
    {
     "name": "stdout",
     "output_type": "stream",
     "text": [
      "N=10, K=2, m=20000: EM=0.9566, Original=0.5454\n"
     ]
    },
    {
     "name": "stderr",
     "output_type": "stream",
     "text": [
      "100%|███████████████████████████████████████████████████████████████████████████████████████████████████████████████████████████████████████████████| 500/500 [00:00<00:00, 1084.31it/s]\n"
     ]
    },
    {
     "name": "stdout",
     "output_type": "stream",
     "text": [
      "N=10, K=2, m=40000: EM=0.9568, Original=0.5474\n"
     ]
    },
    {
     "name": "stderr",
     "output_type": "stream",
     "text": [
      "100%|███████████████████████████████████████████████████████████████████████████████████████████████████████████████████████████████████████████████| 500/500 [00:00<00:00, 1202.59it/s]\n"
     ]
    },
    {
     "name": "stdout",
     "output_type": "stream",
     "text": [
      "N=10, K=2, m=60000: EM=0.9345, Original=0.5432\n"
     ]
    },
    {
     "name": "stderr",
     "output_type": "stream",
     "text": [
      "100%|███████████████████████████████████████████████████████████████████████████████████████████████████████████████████████████████████████████████| 500/500 [00:00<00:00, 1094.88it/s]\n"
     ]
    },
    {
     "name": "stdout",
     "output_type": "stream",
     "text": [
      "N=10, K=2, m=80000: EM=0.9561, Original=0.5468\n"
     ]
    },
    {
     "name": "stderr",
     "output_type": "stream",
     "text": [
      "100%|████████████████████████████████████████████████████████████████████████████████████████████████████████████████████████████████████████████████| 500/500 [00:03<00:00, 161.09it/s]\n"
     ]
    },
    {
     "name": "stdout",
     "output_type": "stream",
     "text": [
      "N=10, K=2, m=100000: EM=0.9771, Original=0.5472\n",
      "[0.51, 0.714, 0.9372, 0.9171, 0.95655, 0.95685, 0.93455, 0.9561, 0.97711]\n"
     ]
    },
    {
     "name": "stderr",
     "output_type": "stream",
     "text": [
      " 13%|███████████████████                                                                                                                             | 66/500 [00:00<00:00, 1393.73it/s]\n"
     ]
    },
    {
     "name": "stdout",
     "output_type": "stream",
     "text": [
      "N=50, K=2, m=100: EM=0.6200, Original=0.6100\n"
     ]
    },
    {
     "name": "stderr",
     "output_type": "stream",
     "text": [
      "100%|███████████████████████████████████████████████████████████████████████████████████████████████████████████████████████████████████████████████| 500/500 [00:00<00:00, 1407.43it/s]\n"
     ]
    },
    {
     "name": "stdout",
     "output_type": "stream",
     "text": [
      "N=50, K=2, m=1000: EM=0.6990, Original=0.5640\n"
     ]
    },
    {
     "name": "stderr",
     "output_type": "stream",
     "text": [
      "100%|███████████████████████████████████████████████████████████████████████████████████████████████████████████████████████████████████████████████| 500/500 [00:00<00:00, 1419.17it/s]\n"
     ]
    },
    {
     "name": "stdout",
     "output_type": "stream",
     "text": [
      "N=50, K=2, m=5000: EM=0.8840, Original=0.5806\n"
     ]
    },
    {
     "name": "stderr",
     "output_type": "stream",
     "text": [
      "100%|███████████████████████████████████████████████████████████████████████████████████████████████████████████████████████████████████████████████| 500/500 [00:00<00:00, 1389.86it/s]\n"
     ]
    },
    {
     "name": "stdout",
     "output_type": "stream",
     "text": [
      "N=50, K=2, m=10000: EM=0.8982, Original=0.5708\n"
     ]
    },
    {
     "name": "stderr",
     "output_type": "stream",
     "text": [
      "100%|███████████████████████████████████████████████████████████████████████████████████████████████████████████████████████████████████████████████| 500/500 [00:00<00:00, 1374.92it/s]\n"
     ]
    },
    {
     "name": "stdout",
     "output_type": "stream",
     "text": [
      "N=50, K=2, m=20000: EM=0.9238, Original=0.5740\n"
     ]
    },
    {
     "name": "stderr",
     "output_type": "stream",
     "text": [
      "100%|███████████████████████████████████████████████████████████████████████████████████████████████████████████████████████████████████████████████| 500/500 [00:00<00:00, 1274.32it/s]\n"
     ]
    },
    {
     "name": "stdout",
     "output_type": "stream",
     "text": [
      "N=50, K=2, m=40000: EM=0.9373, Original=0.5723\n"
     ]
    },
    {
     "name": "stderr",
     "output_type": "stream",
     "text": [
      "100%|███████████████████████████████████████████████████████████████████████████████████████████████████████████████████████████████████████████████| 500/500 [00:00<00:00, 1206.34it/s]\n"
     ]
    },
    {
     "name": "stdout",
     "output_type": "stream",
     "text": [
      "N=50, K=2, m=60000: EM=0.9465, Original=0.5711\n"
     ]
    },
    {
     "name": "stderr",
     "output_type": "stream",
     "text": [
      "100%|███████████████████████████████████████████████████████████████████████████████████████████████████████████████████████████████████████████████| 500/500 [00:00<00:00, 1122.22it/s]\n"
     ]
    },
    {
     "name": "stdout",
     "output_type": "stream",
     "text": [
      "N=50, K=2, m=80000: EM=0.9608, Original=0.5743\n"
     ]
    },
    {
     "name": "stderr",
     "output_type": "stream",
     "text": [
      "100%|███████████████████████████████████████████████████████████████████████████████████████████████████████████████████████████████████████████████| 500/500 [00:00<00:00, 1029.03it/s]\n"
     ]
    },
    {
     "name": "stdout",
     "output_type": "stream",
     "text": [
      "N=50, K=2, m=100000: EM=0.9589, Original=0.5723\n",
      "[0.62, 0.699, 0.884, 0.8982, 0.92385, 0.937325, 0.9465, 0.960775, 0.95893]\n"
     ]
    },
    {
     "name": "stderr",
     "output_type": "stream",
     "text": [
      "100%|███████████████████████████████████████████████████████████████████████████████████████████████████████████████████████████████████████████████| 500/500 [00:00<00:00, 1442.74it/s]\n",
      "/tmp/ipykernel_81373/1563304612.py:33: RuntimeWarning: overflow encountered in exp\n",
      "  r_est = 1 / (1 + np.exp(-r_est))\n"
     ]
    },
    {
     "name": "stdout",
     "output_type": "stream",
     "text": [
      "N=50, K=6, m=100: EM=0.1700, Original=0.6400\n"
     ]
    },
    {
     "name": "stderr",
     "output_type": "stream",
     "text": [
      "100%|███████████████████████████████████████████████████████████████████████████████████████████████████████████████████████████████████████████████| 500/500 [00:00<00:00, 1424.51it/s]\n"
     ]
    },
    {
     "name": "stdout",
     "output_type": "stream",
     "text": [
      "N=50, K=6, m=1000: EM=0.5640, Original=0.5170\n"
     ]
    },
    {
     "name": "stderr",
     "output_type": "stream",
     "text": [
      "100%|███████████████████████████████████████████████████████████████████████████████████████████████████████████████████████████████████████████████| 500/500 [00:00<00:00, 1392.38it/s]\n"
     ]
    },
    {
     "name": "stdout",
     "output_type": "stream",
     "text": [
      "N=50, K=6, m=5000: EM=0.7582, Original=0.5326\n"
     ]
    },
    {
     "name": "stderr",
     "output_type": "stream",
     "text": [
      "100%|███████████████████████████████████████████████████████████████████████████████████████████████████████████████████████████████████████████████| 500/500 [00:00<00:00, 1433.98it/s]\n"
     ]
    },
    {
     "name": "stdout",
     "output_type": "stream",
     "text": [
      "N=50, K=6, m=10000: EM=0.7778, Original=0.5283\n"
     ]
    },
    {
     "name": "stderr",
     "output_type": "stream",
     "text": [
      "100%|███████████████████████████████████████████████████████████████████████████████████████████████████████████████████████████████████████████████| 500/500 [00:00<00:00, 1440.52it/s]\n"
     ]
    },
    {
     "name": "stdout",
     "output_type": "stream",
     "text": [
      "N=50, K=6, m=20000: EM=0.8094, Original=0.5272\n"
     ]
    },
    {
     "name": "stderr",
     "output_type": "stream",
     "text": [
      "100%|███████████████████████████████████████████████████████████████████████████████████████████████████████████████████████████████████████████████| 500/500 [00:00<00:00, 1392.32it/s]\n"
     ]
    },
    {
     "name": "stdout",
     "output_type": "stream",
     "text": [
      "N=50, K=6, m=40000: EM=0.9119, Original=0.5359\n"
     ]
    },
    {
     "name": "stderr",
     "output_type": "stream",
     "text": [
      "100%|███████████████████████████████████████████████████████████████████████████████████████████████████████████████████████████████████████████████| 500/500 [00:00<00:00, 1328.92it/s]\n"
     ]
    },
    {
     "name": "stdout",
     "output_type": "stream",
     "text": [
      "N=50, K=6, m=60000: EM=0.8834, Original=0.5274\n"
     ]
    },
    {
     "name": "stderr",
     "output_type": "stream",
     "text": [
      "100%|███████████████████████████████████████████████████████████████████████████████████████████████████████████████████████████████████████████████| 500/500 [00:00<00:00, 1274.67it/s]\n"
     ]
    },
    {
     "name": "stdout",
     "output_type": "stream",
     "text": [
      "N=50, K=6, m=80000: EM=0.8916, Original=0.5307\n"
     ]
    },
    {
     "name": "stderr",
     "output_type": "stream",
     "text": [
      "100%|███████████████████████████████████████████████████████████████████████████████████████████████████████████████████████████████████████████████| 500/500 [00:00<00:00, 1180.14it/s]\n"
     ]
    },
    {
     "name": "stdout",
     "output_type": "stream",
     "text": [
      "N=50, K=6, m=100000: EM=0.9192, Original=0.5327\n",
      "[0.17, 0.564, 0.7582, 0.7778, 0.80935, 0.911925, 0.8834166666666666, 0.8915875, 0.91915]\n"
     ]
    },
    {
     "name": "stderr",
     "output_type": "stream",
     "text": [
      "100%|███████████████████████████████████████████████████████████████████████████████████████████████████████████████████████████████████████████████| 500/500 [00:00<00:00, 1432.63it/s]\n",
      "/tmp/ipykernel_81373/1563304612.py:33: RuntimeWarning: overflow encountered in exp\n",
      "  r_est = 1 / (1 + np.exp(-r_est))\n"
     ]
    },
    {
     "name": "stdout",
     "output_type": "stream",
     "text": [
      "N=100, K=8, m=100: EM=0.2100, Original=0.5000\n"
     ]
    },
    {
     "name": "stderr",
     "output_type": "stream",
     "text": [
      "100%|███████████████████████████████████████████████████████████████████████████████████████████████████████████████████████████████████████████████| 500/500 [00:00<00:00, 1402.96it/s]\n"
     ]
    },
    {
     "name": "stdout",
     "output_type": "stream",
     "text": [
      "N=100, K=8, m=1000: EM=0.6180, Original=0.5310\n"
     ]
    },
    {
     "name": "stderr",
     "output_type": "stream",
     "text": [
      "100%|███████████████████████████████████████████████████████████████████████████████████████████████████████████████████████████████████████████████| 500/500 [00:00<00:00, 1429.09it/s]\n"
     ]
    },
    {
     "name": "stdout",
     "output_type": "stream",
     "text": [
      "N=100, K=8, m=5000: EM=0.7160, Original=0.5368\n"
     ]
    },
    {
     "name": "stderr",
     "output_type": "stream",
     "text": [
      "100%|███████████████████████████████████████████████████████████████████████████████████████████████████████████████████████████████████████████████| 500/500 [00:00<00:00, 1140.57it/s]\n"
     ]
    },
    {
     "name": "stdout",
     "output_type": "stream",
     "text": [
      "N=100, K=8, m=10000: EM=0.7376, Original=0.5379\n"
     ]
    },
    {
     "name": "stderr",
     "output_type": "stream",
     "text": [
      "100%|███████████████████████████████████████████████████████████████████████████████████████████████████████████████████████████████████████████████| 500/500 [00:00<00:00, 1167.99it/s]\n"
     ]
    },
    {
     "name": "stdout",
     "output_type": "stream",
     "text": [
      "N=100, K=8, m=20000: EM=0.7935, Original=0.5370\n"
     ]
    },
    {
     "name": "stderr",
     "output_type": "stream",
     "text": [
      "100%|███████████████████████████████████████████████████████████████████████████████████████████████████████████████████████████████████████████████| 500/500 [00:00<00:00, 1162.63it/s]\n"
     ]
    },
    {
     "name": "stdout",
     "output_type": "stream",
     "text": [
      "N=100, K=8, m=40000: EM=0.8320, Original=0.5355\n"
     ]
    },
    {
     "name": "stderr",
     "output_type": "stream",
     "text": [
      "100%|███████████████████████████████████████████████████████████████████████████████████████████████████████████████████████████████████████████████| 500/500 [00:00<00:00, 1303.43it/s]\n"
     ]
    },
    {
     "name": "stdout",
     "output_type": "stream",
     "text": [
      "N=100, K=8, m=60000: EM=0.8514, Original=0.5379\n"
     ]
    },
    {
     "name": "stderr",
     "output_type": "stream",
     "text": [
      "100%|███████████████████████████████████████████████████████████████████████████████████████████████████████████████████████████████████████████████| 500/500 [00:00<00:00, 1324.02it/s]\n"
     ]
    },
    {
     "name": "stdout",
     "output_type": "stream",
     "text": [
      "N=100, K=8, m=80000: EM=0.8887, Original=0.5397\n"
     ]
    },
    {
     "name": "stderr",
     "output_type": "stream",
     "text": [
      "100%|████████████████████████████████████████████████████████████████████████████████████████████████████████████████████████████████████████████████| 500/500 [00:03<00:00, 152.68it/s]\n"
     ]
    },
    {
     "name": "stdout",
     "output_type": "stream",
     "text": [
      "N=100, K=8, m=100000: EM=0.8942, Original=0.5383\n",
      "[0.21, 0.618, 0.716, 0.7376, 0.7935, 0.831975, 0.8514, 0.8887125, 0.89416]\n"
     ]
    },
    {
     "name": "stderr",
     "output_type": "stream",
     "text": [
      "100%|████████████████████████████████████████████████████████████████████████████████████████████████████████████████████████████████████████████████| 500/500 [00:01<00:00, 262.63it/s]\n",
      "/tmp/ipykernel_81373/1563304612.py:33: RuntimeWarning: overflow encountered in exp\n",
      "  r_est = 1 / (1 + np.exp(-r_est))\n"
     ]
    },
    {
     "name": "stdout",
     "output_type": "stream",
     "text": [
      "N=200, K=8, m=100: EM=0.3400, Original=0.5700\n"
     ]
    },
    {
     "name": "stderr",
     "output_type": "stream",
     "text": [
      "100%|████████████████████████████████████████████████████████████████████████████████████████████████████████████████████████████████████████████████| 500/500 [00:01<00:00, 476.03it/s]\n",
      "/tmp/ipykernel_81373/1563304612.py:33: RuntimeWarning: overflow encountered in exp\n",
      "  r_est = 1 / (1 + np.exp(-r_est))\n"
     ]
    },
    {
     "name": "stdout",
     "output_type": "stream",
     "text": [
      "N=200, K=8, m=1000: EM=0.2630, Original=0.5340\n"
     ]
    },
    {
     "name": "stderr",
     "output_type": "stream",
     "text": [
      "100%|███████████████████████████████████████████████████████████████████████████████████████████████████████████████████████████████████████████████| 500/500 [00:00<00:00, 1185.25it/s]\n"
     ]
    },
    {
     "name": "stdout",
     "output_type": "stream",
     "text": [
      "N=200, K=8, m=5000: EM=0.6382, Original=0.5264\n"
     ]
    },
    {
     "name": "stderr",
     "output_type": "stream",
     "text": [
      "100%|███████████████████████████████████████████████████████████████████████████████████████████████████████████████████████████████████████████████| 500/500 [00:00<00:00, 1166.32it/s]\n"
     ]
    },
    {
     "name": "stdout",
     "output_type": "stream",
     "text": [
      "N=200, K=8, m=10000: EM=0.6532, Original=0.5316\n"
     ]
    },
    {
     "name": "stderr",
     "output_type": "stream",
     "text": [
      "100%|███████████████████████████████████████████████████████████████████████████████████████████████████████████████████████████████████████████████| 500/500 [00:00<00:00, 1159.90it/s]\n"
     ]
    },
    {
     "name": "stdout",
     "output_type": "stream",
     "text": [
      "N=200, K=8, m=20000: EM=0.7291, Original=0.5311\n"
     ]
    },
    {
     "name": "stderr",
     "output_type": "stream",
     "text": [
      "100%|███████████████████████████████████████████████████████████████████████████████████████████████████████████████████████████████████████████████| 500/500 [00:00<00:00, 1095.53it/s]\n"
     ]
    },
    {
     "name": "stdout",
     "output_type": "stream",
     "text": [
      "N=200, K=8, m=40000: EM=0.7685, Original=0.5330\n"
     ]
    },
    {
     "name": "stderr",
     "output_type": "stream",
     "text": [
      "100%|███████████████████████████████████████████████████████████████████████████████████████████████████████████████████████████████████████████████| 500/500 [00:00<00:00, 1086.29it/s]\n"
     ]
    },
    {
     "name": "stdout",
     "output_type": "stream",
     "text": [
      "N=200, K=8, m=60000: EM=0.8260, Original=0.5340\n"
     ]
    },
    {
     "name": "stderr",
     "output_type": "stream",
     "text": [
      "100%|███████████████████████████████████████████████████████████████████████████████████████████████████████████████████████████████████████████████| 500/500 [00:00<00:00, 1111.75it/s]\n"
     ]
    },
    {
     "name": "stdout",
     "output_type": "stream",
     "text": [
      "N=200, K=8, m=80000: EM=0.8251, Original=0.5318\n"
     ]
    },
    {
     "name": "stderr",
     "output_type": "stream",
     "text": [
      "100%|███████████████████████████████████████████████████████████████████████████████████████████████████████████████████████████████████████████████| 500/500 [00:00<00:00, 1228.56it/s]\n"
     ]
    },
    {
     "name": "stdout",
     "output_type": "stream",
     "text": [
      "N=200, K=8, m=100000: EM=0.8455, Original=0.5362\n",
      "[0.34, 0.263, 0.6382, 0.6532, 0.72915, 0.768525, 0.8260333333333333, 0.8250875, 0.84554]\n"
     ]
    },
    {
     "name": "stderr",
     "output_type": "stream",
     "text": [
      "100%|███████████████████████████████████████████████████████████████████████████████████████████████████████████████████████████████████████████████| 500/500 [00:00<00:00, 1165.32it/s]\n",
      "/tmp/ipykernel_81373/1563304612.py:33: RuntimeWarning: overflow encountered in exp\n",
      "  r_est = 1 / (1 + np.exp(-r_est))\n"
     ]
    },
    {
     "name": "stdout",
     "output_type": "stream",
     "text": [
      "N=100, K=10, m=100: EM=0.2600, Original=0.6100\n"
     ]
    },
    {
     "name": "stderr",
     "output_type": "stream",
     "text": [
      "100%|███████████████████████████████████████████████████████████████████████████████████████████████████████████████████████████████████████████████| 500/500 [00:00<00:00, 1159.96it/s]\n"
     ]
    },
    {
     "name": "stdout",
     "output_type": "stream",
     "text": [
      "N=100, K=10, m=1000: EM=0.6160, Original=0.5470\n"
     ]
    },
    {
     "name": "stderr",
     "output_type": "stream",
     "text": [
      "100%|███████████████████████████████████████████████████████████████████████████████████████████████████████████████████████████████████████████████| 500/500 [00:00<00:00, 1164.56it/s]\n"
     ]
    },
    {
     "name": "stdout",
     "output_type": "stream",
     "text": [
      "N=100, K=10, m=5000: EM=0.7300, Original=0.5546\n"
     ]
    },
    {
     "name": "stderr",
     "output_type": "stream",
     "text": [
      "100%|███████████████████████████████████████████████████████████████████████████████████████████████████████████████████████████████████████████████| 500/500 [00:00<00:00, 1161.76it/s]\n"
     ]
    },
    {
     "name": "stdout",
     "output_type": "stream",
     "text": [
      "N=100, K=10, m=10000: EM=0.7388, Original=0.5383\n"
     ]
    },
    {
     "name": "stderr",
     "output_type": "stream",
     "text": [
      "100%|███████████████████████████████████████████████████████████████████████████████████████████████████████████████████████████████████████████████| 500/500 [00:00<00:00, 1168.90it/s]\n"
     ]
    },
    {
     "name": "stdout",
     "output_type": "stream",
     "text": [
      "N=100, K=10, m=20000: EM=0.8084, Original=0.5392\n"
     ]
    },
    {
     "name": "stderr",
     "output_type": "stream",
     "text": [
      "100%|███████████████████████████████████████████████████████████████████████████████████████████████████████████████████████████████████████████████| 500/500 [00:00<00:00, 1415.55it/s]\n"
     ]
    },
    {
     "name": "stdout",
     "output_type": "stream",
     "text": [
      "N=100, K=10, m=40000: EM=0.8614, Original=0.5419\n"
     ]
    },
    {
     "name": "stderr",
     "output_type": "stream",
     "text": [
      "100%|███████████████████████████████████████████████████████████████████████████████████████████████████████████████████████████████████████████████| 500/500 [00:00<00:00, 1373.31it/s]\n"
     ]
    },
    {
     "name": "stdout",
     "output_type": "stream",
     "text": [
      "N=100, K=10, m=60000: EM=0.8810, Original=0.5413\n"
     ]
    },
    {
     "name": "stderr",
     "output_type": "stream",
     "text": [
      "100%|███████████████████████████████████████████████████████████████████████████████████████████████████████████████████████████████████████████████| 500/500 [00:00<00:00, 1348.50it/s]\n"
     ]
    },
    {
     "name": "stdout",
     "output_type": "stream",
     "text": [
      "N=100, K=10, m=80000: EM=0.8994, Original=0.5411\n"
     ]
    },
    {
     "name": "stderr",
     "output_type": "stream",
     "text": [
      "100%|███████████████████████████████████████████████████████████████████████████████████████████████████████████████████████████████████████████████| 500/500 [00:00<00:00, 1295.70it/s]\n"
     ]
    },
    {
     "name": "stdout",
     "output_type": "stream",
     "text": [
      "N=100, K=10, m=100000: EM=0.8919, Original=0.5394\n",
      "[0.26, 0.616, 0.73, 0.7388, 0.80835, 0.861375, 0.8810166666666667, 0.8993625, 0.89193]\n"
     ]
    },
    {
     "name": "stderr",
     "output_type": "stream",
     "text": [
      "100%|███████████████████████████████████████████████████████████████████████████████████████████████████████████████████████████████████████████████| 500/500 [00:00<00:00, 1018.35it/s]\n",
      "/tmp/ipykernel_81373/1563304612.py:33: RuntimeWarning: overflow encountered in exp\n",
      "  r_est = 1 / (1 + np.exp(-r_est))\n"
     ]
    },
    {
     "name": "stdout",
     "output_type": "stream",
     "text": [
      "N=200, K=10, m=100: EM=0.2300, Original=0.4900\n"
     ]
    },
    {
     "name": "stderr",
     "output_type": "stream",
     "text": [
      "100%|███████████████████████████████████████████████████████████████████████████████████████████████████████████████████████████████████████████████| 500/500 [00:00<00:00, 1035.30it/s]\n"
     ]
    },
    {
     "name": "stdout",
     "output_type": "stream",
     "text": [
      "N=200, K=10, m=1000: EM=0.6000, Original=0.5520\n"
     ]
    },
    {
     "name": "stderr",
     "output_type": "stream",
     "text": [
      "100%|███████████████████████████████████████████████████████████████████████████████████████████████████████████████████████████████████████████████| 500/500 [00:00<00:00, 1174.46it/s]\n"
     ]
    },
    {
     "name": "stdout",
     "output_type": "stream",
     "text": [
      "N=200, K=10, m=5000: EM=0.6822, Original=0.5480\n"
     ]
    },
    {
     "name": "stderr",
     "output_type": "stream",
     "text": [
      "100%|███████████████████████████████████████████████████████████████████████████████████████████████████████████████████████████████████████████████| 500/500 [00:00<00:00, 1170.06it/s]\n"
     ]
    },
    {
     "name": "stdout",
     "output_type": "stream",
     "text": [
      "N=200, K=10, m=10000: EM=0.6812, Original=0.5339\n"
     ]
    },
    {
     "name": "stderr",
     "output_type": "stream",
     "text": [
      "100%|███████████████████████████████████████████████████████████████████████████████████████████████████████████████████████████████████████████████| 500/500 [00:00<00:00, 1168.82it/s]\n"
     ]
    },
    {
     "name": "stdout",
     "output_type": "stream",
     "text": [
      "N=200, K=10, m=20000: EM=0.7201, Original=0.5296\n"
     ]
    },
    {
     "name": "stderr",
     "output_type": "stream",
     "text": [
      "100%|███████████████████████████████████████████████████████████████████████████████████████████████████████████████████████████████████████████████| 500/500 [00:00<00:00, 1292.53it/s]\n"
     ]
    },
    {
     "name": "stdout",
     "output_type": "stream",
     "text": [
      "N=200, K=10, m=40000: EM=0.7935, Original=0.5373\n"
     ]
    },
    {
     "name": "stderr",
     "output_type": "stream",
     "text": [
      "100%|███████████████████████████████████████████████████████████████████████████████████████████████████████████████████████████████████████████████| 500/500 [00:00<00:00, 1387.10it/s]\n"
     ]
    },
    {
     "name": "stdout",
     "output_type": "stream",
     "text": [
      "N=200, K=10, m=60000: EM=0.8326, Original=0.5380\n"
     ]
    },
    {
     "name": "stderr",
     "output_type": "stream",
     "text": [
      "100%|███████████████████████████████████████████████████████████████████████████████████████████████████████████████████████████████████████████████| 500/500 [00:00<00:00, 1315.28it/s]\n"
     ]
    },
    {
     "name": "stdout",
     "output_type": "stream",
     "text": [
      "N=200, K=10, m=80000: EM=0.8468, Original=0.5360\n"
     ]
    },
    {
     "name": "stderr",
     "output_type": "stream",
     "text": [
      "100%|████████████████████████████████████████████████████████████████████████████████████████████████████████████████████████████████████████████████| 500/500 [00:03<00:00, 135.13it/s]\n"
     ]
    },
    {
     "name": "stdout",
     "output_type": "stream",
     "text": [
      "N=200, K=10, m=100000: EM=0.8597, Original=0.5359\n",
      "[0.23, 0.6, 0.6822, 0.6812, 0.7201, 0.793475, 0.8326333333333333, 0.8468125, 0.8597]\n"
     ]
    },
    {
     "name": "stderr",
     "output_type": "stream",
     "text": [
      "100%|████████████████████████████████████████████████████████████████████████████████████████████████████████████████████████████████████████████████| 500/500 [00:00<00:00, 794.57it/s]\n",
      "/tmp/ipykernel_81373/1563304612.py:33: RuntimeWarning: overflow encountered in exp\n",
      "  r_est = 1 / (1 + np.exp(-r_est))\n"
     ]
    },
    {
     "name": "stdout",
     "output_type": "stream",
     "text": [
      "N=200, K=50, m=100: EM=0.2800, Original=0.5400\n"
     ]
    },
    {
     "name": "stderr",
     "output_type": "stream",
     "text": [
      "100%|███████████████████████████████████████████████████████████████████████████████████████████████████████████████████████████████████████████████| 500/500 [00:00<00:00, 1164.26it/s]\n"
     ]
    },
    {
     "name": "stdout",
     "output_type": "stream",
     "text": [
      "N=200, K=50, m=1000: EM=0.5860, Original=0.5330\n"
     ]
    },
    {
     "name": "stderr",
     "output_type": "stream",
     "text": [
      "100%|███████████████████████████████████████████████████████████████████████████████████████████████████████████████████████████████████████████████| 500/500 [00:00<00:00, 1158.88it/s]\n"
     ]
    },
    {
     "name": "stdout",
     "output_type": "stream",
     "text": [
      "N=200, K=50, m=5000: EM=0.6572, Original=0.5446\n"
     ]
    },
    {
     "name": "stderr",
     "output_type": "stream",
     "text": [
      "100%|████████████████████████████████████████████████████████████████████████████████████████████████████████████████████████████████████████████████| 500/500 [00:00<00:00, 944.50it/s]\n"
     ]
    },
    {
     "name": "stdout",
     "output_type": "stream",
     "text": [
      "N=200, K=50, m=10000: EM=0.7152, Original=0.5432\n"
     ]
    },
    {
     "name": "stderr",
     "output_type": "stream",
     "text": [
      "100%|███████████████████████████████████████████████████████████████████████████████████████████████████████████████████████████████████████████████| 500/500 [00:00<00:00, 1166.68it/s]\n"
     ]
    },
    {
     "name": "stdout",
     "output_type": "stream",
     "text": [
      "N=200, K=50, m=20000: EM=0.7259, Original=0.5369\n"
     ]
    },
    {
     "name": "stderr",
     "output_type": "stream",
     "text": [
      "100%|███████████████████████████████████████████████████████████████████████████████████████████████████████████████████████████████████████████████| 500/500 [00:00<00:00, 1166.67it/s]\n"
     ]
    },
    {
     "name": "stdout",
     "output_type": "stream",
     "text": [
      "N=200, K=50, m=40000: EM=0.8128, Original=0.5412\n"
     ]
    },
    {
     "name": "stderr",
     "output_type": "stream",
     "text": [
      "100%|███████████████████████████████████████████████████████████████████████████████████████████████████████████████████████████████████████████████| 500/500 [00:00<00:00, 1197.60it/s]\n"
     ]
    },
    {
     "name": "stdout",
     "output_type": "stream",
     "text": [
      "N=200, K=50, m=60000: EM=0.8418, Original=0.5409\n"
     ]
    },
    {
     "name": "stderr",
     "output_type": "stream",
     "text": [
      "100%|███████████████████████████████████████████████████████████████████████████████████████████████████████████████████████████████████████████████| 500/500 [00:00<00:00, 1331.57it/s]\n"
     ]
    },
    {
     "name": "stdout",
     "output_type": "stream",
     "text": [
      "N=200, K=50, m=80000: EM=0.8586, Original=0.5412\n"
     ]
    },
    {
     "name": "stderr",
     "output_type": "stream",
     "text": [
      "100%|███████████████████████████████████████████████████████████████████████████████████████████████████████████████████████████████████████████████| 500/500 [00:00<00:00, 1171.49it/s]\n"
     ]
    },
    {
     "name": "stdout",
     "output_type": "stream",
     "text": [
      "N=200, K=50, m=100000: EM=0.8568, Original=0.5365\n",
      "[0.28, 0.586, 0.6572, 0.7152, 0.72595, 0.812825, 0.8417833333333333, 0.858575, 0.85678]\n"
     ]
    },
    {
     "name": "stderr",
     "output_type": "stream",
     "text": [
      "100%|███████████████████████████████████████████████████████████████████████████████████████████████████████████████████████████████████████████████| 500/500 [00:00<00:00, 1390.59it/s]\n",
      "/tmp/ipykernel_81373/1563304612.py:33: RuntimeWarning: overflow encountered in exp\n",
      "  r_est = 1 / (1 + np.exp(-r_est))\n"
     ]
    },
    {
     "name": "stdout",
     "output_type": "stream",
     "text": [
      "N=500, K=50, m=100: EM=0.3900, Original=0.6100\n"
     ]
    },
    {
     "name": "stderr",
     "output_type": "stream",
     "text": [
      "100%|███████████████████████████████████████████████████████████████████████████████████████████████████████████████████████████████████████████████| 500/500 [00:00<00:00, 1173.22it/s]\n",
      "/tmp/ipykernel_81373/1563304612.py:33: RuntimeWarning: overflow encountered in exp\n",
      "  r_est = 1 / (1 + np.exp(-r_est))\n"
     ]
    },
    {
     "name": "stdout",
     "output_type": "stream",
     "text": [
      "N=500, K=50, m=1000: EM=0.1140, Original=0.5210\n"
     ]
    },
    {
     "name": "stderr",
     "output_type": "stream",
     "text": [
      "100%|███████████████████████████████████████████████████████████████████████████████████████████████████████████████████████████████████████████████| 500/500 [00:00<00:00, 1170.36it/s]\n"
     ]
    },
    {
     "name": "stdout",
     "output_type": "stream",
     "text": [
      "N=500, K=50, m=5000: EM=0.6100, Original=0.5368\n"
     ]
    },
    {
     "name": "stderr",
     "output_type": "stream",
     "text": [
      "100%|███████████████████████████████████████████████████████████████████████████████████████████████████████████████████████████████████████████████| 500/500 [00:00<00:00, 1171.33it/s]\n"
     ]
    },
    {
     "name": "stdout",
     "output_type": "stream",
     "text": [
      "N=500, K=50, m=10000: EM=0.6188, Original=0.5359\n"
     ]
    },
    {
     "name": "stderr",
     "output_type": "stream",
     "text": [
      "100%|███████████████████████████████████████████████████████████████████████████████████████████████████████████████████████████████████████████████| 500/500 [00:00<00:00, 1168.87it/s]\n"
     ]
    },
    {
     "name": "stdout",
     "output_type": "stream",
     "text": [
      "N=500, K=50, m=20000: EM=0.6751, Original=0.5360\n"
     ]
    },
    {
     "name": "stderr",
     "output_type": "stream",
     "text": [
      "100%|███████████████████████████████████████████████████████████████████████████████████████████████████████████████████████████████████████████████| 500/500 [00:00<00:00, 1004.52it/s]\n"
     ]
    },
    {
     "name": "stdout",
     "output_type": "stream",
     "text": [
      "N=500, K=50, m=40000: EM=0.7321, Original=0.5415\n"
     ]
    },
    {
     "name": "stderr",
     "output_type": "stream",
     "text": [
      "100%|███████████████████████████████████████████████████████████████████████████████████████████████████████████████████████████████████████████████| 500/500 [00:00<00:00, 1158.08it/s]\n"
     ]
    },
    {
     "name": "stdout",
     "output_type": "stream",
     "text": [
      "N=500, K=50, m=60000: EM=0.7611, Original=0.5377\n"
     ]
    },
    {
     "name": "stderr",
     "output_type": "stream",
     "text": [
      "100%|███████████████████████████████████████████████████████████████████████████████████████████████████████████████████████████████████████████████| 500/500 [00:00<00:00, 1369.93it/s]\n"
     ]
    },
    {
     "name": "stdout",
     "output_type": "stream",
     "text": [
      "N=500, K=50, m=80000: EM=0.7870, Original=0.5385\n"
     ]
    },
    {
     "name": "stderr",
     "output_type": "stream",
     "text": [
      "100%|███████████████████████████████████████████████████████████████████████████████████████████████████████████████████████████████████████████████| 500/500 [00:00<00:00, 1326.45it/s]\n"
     ]
    },
    {
     "name": "stdout",
     "output_type": "stream",
     "text": [
      "N=500, K=50, m=100000: EM=0.8089, Original=0.5388\n",
      "[0.39, 0.114, 0.61, 0.6188, 0.67505, 0.73215, 0.7611333333333333, 0.786975, 0.80891]\n"
     ]
    }
   ],
   "source": [
    "import numpy as np\n",
    "import matplotlib.pyplot as plt\n",
    "from sklearn.metrics import accuracy_score\n",
    "\n",
    "# Set seed for reproducibility\n",
    "np.random.seed(42)\n",
    "N_array = [10, 50, 50, 100, 200, 100, 200, 200, 500]\n",
    "K_array = [2, 2, 6, 8, 8, 10, 10, 50, 50]\n",
    "# N_array = [50]\n",
    "# K_array = [6]\n",
    "\n",
    "scores_dict = {}\n",
    "\n",
    "for N, K in zip(N_array, K_array):\n",
    "    # True parameters (constrained to [0, 1])\n",
    "    true_r = np.random.rand(N)     # Item rewards (0 = worst, 1 = best)\n",
    "    true_r = true_r - true_r.mean()\n",
    "    true_beta = np.random.rand(K)          # Worker competencies (0 = random, 1 = perfect)\n",
    "    M_array = [100, 1000, 5000, 10000, 20000, 40000, 60000, 80000, 100000]\n",
    "    # M_array = [60000]\n",
    "    accuracy_scores = []\n",
    "    original_accuracy_scores = []\n",
    "    rmse_r_array = []\n",
    "    rmse_beta_array = []\n",
    "\n",
    "\n",
    "    for m in M_array:\n",
    "        comparisons = generate_comparisons(true_r, true_beta, m, N, K)\n",
    "        # estimated_r3, estimated_beta3, history3 = model.fit(comparisons)\n",
    "        model = PolyaGammaEMGPU(N, K, device=device)\n",
    "        r_est, b_est = model.fit(comparisons)\n",
    "        \n",
    "        r_est = 1 / (1 + np.exp(-r_est))\n",
    "        r_est = r_est - r_est.mean()\n",
    "        \n",
    "        rmse_r3, rmse_beta3 = metrics(true_r, true_beta, r_est, b_est)\n",
    "#           print(rmse_r3)\n",
    "#           print(rmse_beta3)\n",
    "        true_labels = [1]*len(comparisons)\n",
    "        estimated_labels = estimate_labels(r_est)\n",
    "\n",
    "        # Calculate accuracy\n",
    "        accuracy = accuracy_score(true_labels, estimated_labels)\n",
    "        accuracy_scores.append(accuracy)\n",
    "        rmse_r_array.append(rmse_r3)\n",
    "        rmse_beta_array.append(rmse_beta3)\n",
    "#         print(accuracy)\n",
    "\n",
    "\n",
    "        original_labels = get_original_label(comparisons)\n",
    "        original_accuracy = accuracy_score(true_labels, original_labels)\n",
    "#         print(original_accuracy)\n",
    "        print(f\"N={N}, K={K}, m={m}: EM={accuracy:.4f}, Original={original_accuracy:.4f}\")\n",
    "        original_accuracy_scores.append(original_accuracy)\n",
    "\n",
    "    print(accuracy_scores)\n",
    "    scores_dict[f'{N}_{K}'] = {\n",
    "        \"our\": accuracy_scores,\n",
    "        \"original\": original_accuracy_scores\n",
    "    }"
   ]
  },
  {
   "cell_type": "code",
   "execution_count": 25,
   "metadata": {},
   "outputs": [
    {
     "name": "stdout",
     "output_type": "stream",
     "text": [
      "[0.40357061062865135, 0.4638166410605034, 0.28076868788079207, 0.28155996546845796, 0.28119404362177763, 0.2803117800053404, 0.28067241988174596, 0.2800888948893563, 0.28013357316490994]\n"
     ]
    }
   ],
   "source": [
    "print(rmse_r_array)"
   ]
  },
  {
   "cell_type": "code",
   "execution_count": 26,
   "metadata": {},
   "outputs": [
    {
     "name": "stdout",
     "output_type": "stream",
     "text": [
      "[0.4878252053129532, 0.5446387913793052, 0.4710255682501327, 0.49315283212723615, 0.4855037421730597, 0.46917884048399444, 0.48208020822112324, 0.4508856152784744, 0.4818467712243634]\n"
     ]
    }
   ],
   "source": [
    "print(rmse_beta_array)"
   ]
  },
  {
   "cell_type": "code",
   "execution_count": 13,
   "metadata": {},
   "outputs": [
    {
     "ename": "KeyError",
     "evalue": "'50_6'",
     "output_type": "error",
     "traceback": [
      "\u001b[0;31m---------------------------------------------------------------------------\u001b[0m",
      "\u001b[0;31mKeyError\u001b[0m                                  Traceback (most recent call last)",
      "Cell \u001b[0;32mIn[13], line 1\u001b[0m\n\u001b[0;32m----> 1\u001b[0m \u001b[43mscores_dict\u001b[49m\u001b[43m[\u001b[49m\u001b[38;5;124;43m\"\u001b[39;49m\u001b[38;5;124;43m50_6\u001b[39;49m\u001b[38;5;124;43m\"\u001b[39;49m\u001b[43m]\u001b[49m[\u001b[38;5;124m\"\u001b[39m\u001b[38;5;124mour\u001b[39m\u001b[38;5;124m\"\u001b[39m]\n",
      "\u001b[0;31mKeyError\u001b[0m: '50_6'"
     ]
    }
   ],
   "source": [
    "scores_dict[\"50_6\"][\"our\"]"
   ]
  },
  {
   "cell_type": "code",
   "execution_count": null,
   "metadata": {},
   "outputs": [],
   "source": [
    "import matplotlib.pyplot as plt\n",
    "\n",
    "M_array = [100, 1000, 5000, 10000, 20000, 40000, 60000, 80000, 100000]\n",
    "N_array = [10, 50, 50, 100, 200, 100, 200, 200, 500]\n",
    "K_array = [2, 2, 6, 8, 8, 10, 10, 50, 50]\n",
    "\n",
    "for N, K in zip(N_array, K_array):\n",
    "    key = f\"{N}_{K}\"\n",
    "    acc = scores_dict[key][\"our\"]\n",
    "    original_acc = scores_dict[key][\"original\"]\n",
    "\n",
    "    plt.figure(figsize=(8, 5))\n",
    "    plt.plot(M_array, acc, marker='o', label='EM (ours)')\n",
    "    plt.plot(M_array, original_acc, marker='x', linestyle='--', label='Original')\n",
    "    \n",
    "    plt.xlabel(\"Number of comparisons (m)\")\n",
    "    plt.ylabel(\"Accuracy\")\n",
    "    plt.title(f\"Accuracy vs. m for N={N}, K={K}\")\n",
    "    plt.legend()\n",
    "    plt.grid(True)\n",
    "    plt.tight_layout()\n",
    "    plt.show()"
   ]
  },
  {
   "cell_type": "code",
   "execution_count": null,
   "metadata": {},
   "outputs": [],
   "source": [
    "import matplotlib.pyplot as plt\n",
    "\n",
    "M_array = [100, 1000, 5000, 10000, 20000, 40000, 60000, 80000, 100000]\n",
    "N_array = [10, 50, 50, 200, 200, 500]\n",
    "K_array = [2, 2, 6, 10, 50, 50]\n",
    "\n",
    "plt.figure(figsize=(12, 7))\n",
    "\n",
    "i = 0\n",
    "for N, K in zip(N_array, K_array):\n",
    "    key = f\"{N}_{K}\"\n",
    "    acc = scores_dict[key][\"our\"]\n",
    "    original_acc = scores_dict[key][\"original\"]\n",
    "\n",
    "    label_em = f\"EM: N={N}, K={K}\"\n",
    "    label_orig = f\"Original\"\n",
    "    \n",
    "    plt.plot(M_array, acc, marker='o', label=label_em)\n",
    "    if i == 0:\n",
    "        plt.plot(M_array, original_acc, marker='x', linestyle='--', label=label_orig)\n",
    "        i = i + 1\n",
    "    else:\n",
    "        plt.plot(M_array, original_acc, marker='x', linestyle='--')\n",
    "\n",
    "plt.xlabel(\"Number of comparisons (m)\")\n",
    "plt.ylabel(\"Accuracy\")\n",
    "# plt.title(\"Performance of Extended BTL Model on various (N,K) settings\")\n",
    "plt.legend(loc='best', fontsize=8)\n",
    "plt.grid(True)\n",
    "plt.tight_layout()\n",
    "plt.savefig(\"result_line_graph.svg\", format=\"svg\")"
   ]
  },
  {
   "cell_type": "code",
   "execution_count": null,
   "metadata": {},
   "outputs": [],
   "source": []
  }
 ],
 "metadata": {
  "colab": {
   "provenance": []
  },
  "kernelspec": {
   "display_name": "Python 3 (ipykernel)",
   "language": "python",
   "name": "python3"
  },
  "language_info": {
   "codemirror_mode": {
    "name": "ipython",
    "version": 3
   },
   "file_extension": ".py",
   "mimetype": "text/x-python",
   "name": "python",
   "nbconvert_exporter": "python",
   "pygments_lexer": "ipython3",
   "version": "3.10.12"
  }
 },
 "nbformat": 4,
 "nbformat_minor": 4
}
